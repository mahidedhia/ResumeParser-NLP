{
  "nbformat": 4,
  "nbformat_minor": 0,
  "metadata": {
    "colab": {
      "provenance": [],
      "authorship_tag": "ABX9TyPrruKeWTc6K/pHCWGijbqF",
      "include_colab_link": true
    },
    "kernelspec": {
      "name": "python3",
      "display_name": "Python 3"
    },
    "language_info": {
      "name": "python"
    }
  },
  "cells": [
    {
      "cell_type": "markdown",
      "metadata": {
        "id": "view-in-github",
        "colab_type": "text"
      },
      "source": [
        "<a href=\"https://colab.research.google.com/github/mahidedhia/ResumeParser-NLP/blob/master/ResumeParsing.ipynb\" target=\"_parent\"><img src=\"https://colab.research.google.com/assets/colab-badge.svg\" alt=\"Open In Colab\"/></a>"
      ]
    },
    {
      "cell_type": "code",
      "execution_count": 11,
      "metadata": {
        "id": "zgAaLV5jUrko"
      },
      "outputs": [],
      "source": [
        "import spacy\n",
        "\n",
        "nlp = spacy.load(\"en_core_web_sm\")"
      ]
    },
    {
      "cell_type": "code",
      "source": [
        "!pip install pdfminer.six"
      ],
      "metadata": {
        "colab": {
          "base_uri": "https://localhost:8080/"
        },
        "id": "PNfikvKAUNhp",
        "outputId": "0f4ba6b9-5988-49ac-a07f-a2f53b1d87b6"
      },
      "execution_count": 12,
      "outputs": [
        {
          "output_type": "stream",
          "name": "stdout",
          "text": [
            "Looking in indexes: https://pypi.org/simple, https://us-python.pkg.dev/colab-wheels/public/simple/\n",
            "Requirement already satisfied: pdfminer.six in /usr/local/lib/python3.9/dist-packages (20221105)\n",
            "Requirement already satisfied: charset-normalizer>=2.0.0 in /usr/local/lib/python3.9/dist-packages (from pdfminer.six) (2.0.12)\n",
            "Requirement already satisfied: cryptography>=36.0.0 in /usr/local/lib/python3.9/dist-packages (from pdfminer.six) (40.0.2)\n",
            "Requirement already satisfied: cffi>=1.12 in /usr/local/lib/python3.9/dist-packages (from cryptography>=36.0.0->pdfminer.six) (1.15.1)\n",
            "Requirement already satisfied: pycparser in /usr/local/lib/python3.9/dist-packages (from cffi>=1.12->cryptography>=36.0.0->pdfminer.six) (2.21)\n"
          ]
        }
      ]
    },
    {
      "cell_type": "code",
      "source": [
        "filename = \"QA-Manual-Tester.pdf\""
      ],
      "metadata": {
        "id": "HMrSQ_6cUCJ2"
      },
      "execution_count": 13,
      "outputs": []
    },
    {
      "cell_type": "code",
      "source": [
        "#temporary method to extract from pdf\n",
        "from pdfminer.high_level import extract_text\n",
        "\n",
        "def pdfExtract(file):\n",
        "  text = extract_text(file)\n",
        "  return text"
      ],
      "metadata": {
        "id": "8dNvFy-rUEf8"
      },
      "execution_count": 14,
      "outputs": []
    },
    {
      "cell_type": "code",
      "source": [
        "text = pdfExtract(filename)"
      ],
      "metadata": {
        "id": "Cpd5xHoXUF9n"
      },
      "execution_count": 15,
      "outputs": []
    },
    {
      "cell_type": "markdown",
      "source": [
        "PARSING THE RESUME TEXT OBTAINED FROM PDF"
      ],
      "metadata": {
        "id": "rl-AwnkrGywl"
      }
    },
    {
      "cell_type": "code",
      "source": [
        "headers_experience = (\n",
        "        'career profile',\n",
        "        'employment history',\n",
        "        'work history',\n",
        "        'work experience',\n",
        "        'experience',\n",
        "        'professional experience',\n",
        "        'professional background',\n",
        "        'additional experience',\n",
        "        'career related experience',\n",
        "        'related experience',\n",
        "        'programming experience',\n",
        "        'freelance',\n",
        "        'freelance experience',\n",
        "        'army experience',\n",
        "        'military experience',\n",
        "        'military background',\n",
        ")\n",
        "headers_education = (\n",
        "        'academic background',\n",
        "        'academic experience',\n",
        "        'programs',\n",
        "        'courses',\n",
        "        'related courses',\n",
        "        'education',\n",
        "        'qualifications',\n",
        "        'educational background',\n",
        "        'educational qualifications',\n",
        "        'educational training',\n",
        "        'education and training',\n",
        "        'training',\n",
        "        'academic training',\n",
        "        'professional training',\n",
        "        'course project experience',\n",
        "        'related course projects',\n",
        "        'internship experience',\n",
        "        'internships',\n",
        "        'apprenticeships',\n",
        "        'college activities',\n",
        "        'certifications',\n",
        "        'special training',\n",
        "    )\n",
        "headers_skills = (\n",
        "        'credentials',\n",
        "        'areas of experience',\n",
        "        'areas of expertise',\n",
        "        'areas of knowledge',\n",
        "        'skills',\n",
        "        \"other skills\",\n",
        "        \"other abilities\",\n",
        "        'career related skills',\n",
        "        'professional skills',\n",
        "        'specialized skills',\n",
        "        'technical skills',\n",
        "        'computer skills',\n",
        "        'personal skills',\n",
        "        'computer knowledge',        \n",
        "        'technologies',\n",
        "        'technical experience',\n",
        "        'proficiencies',\n",
        "        'languages',\n",
        "        'language competencies and skills',\n",
        "        'programming languages',\n",
        "        'competencies'\n",
        "    )\n",
        "headers_projects = (\n",
        "    'projects',\n",
        "    'personal projects',\n",
        "    'academic projects',\n",
        ")"
      ],
      "metadata": {
        "id": "5C-PMBaD2Ohw"
      },
      "execution_count": 16,
      "outputs": []
    },
    {
      "cell_type": "code",
      "source": [
        "# A complete sentence contains at least one subject, one predicate, one object, and closes with punctuation. \n",
        "# Subject and object are almost always nouns, and the predicate is always a verb.\n",
        "def checkSentence(text):\n",
        "  text=nlp(text)\n",
        "  has_noun = 2\n",
        "  has_verb = 1\n",
        "  for token in text:\n",
        "    if token.pos_ in [\"NOUN\", \"PROPN\", \"PRON\"]:\n",
        "        has_noun -= 1\n",
        "    elif token.pos_ == \"VERB\":\n",
        "        has_verb -= 1\n",
        "  if has_noun < 1 and has_verb < 1:\n",
        "    return True\n",
        "  return False"
      ],
      "metadata": {
        "id": "25VDSgFPEz9-"
      },
      "execution_count": 17,
      "outputs": []
    },
    {
      "cell_type": "code",
      "source": [
        "class ResumeParser:\n",
        "  def __init__(self, text):\n",
        "    self.resume_text = text\n",
        "    self.lines = text.split(\"\\n\")\n",
        "  \n",
        "  resume_sections = {\n",
        "      'name': {},\n",
        "      'experience': {},\n",
        "      'education': {},\n",
        "      'skills': {},\n",
        "      'projects': {},\n",
        "  }\n",
        "  header_indices = {}\n",
        "\n",
        "  #Obtain line nos of Headers \n",
        "  def getHeaderIndices(self):\n",
        "    for i, line in enumerate(self.lines):\n",
        "      if len(line):\n",
        "        #Header always starts in Uppercase\n",
        "        if line[0].isupper():\n",
        "          #The line is a header if it matches the required section headers and isn't a complete sentence\n",
        "          if [item for item in headers_experience if line.lower().startswith(item)] and not checkSentence(line):\n",
        "            self.header_indices[i]=\"experience\"\n",
        "          elif [item for item in headers_education if line.lower().startswith(item)] and not checkSentence(line):\n",
        "            self.header_indices[i]=\"education\"\n",
        "          elif [item for item in headers_skills if line.lower().startswith(item)] and not checkSentence(line):\n",
        "            self.header_indices[i]=\"skills\"\n",
        "          elif [item for item in headers_projects if line.lower().startswith(item)] and not checkSentence(line):\n",
        "            self.header_indices[i]=\"projects\"\n",
        "\n",
        "  #Obtain raw text for different resume sections using header indices/linenos\n",
        "  def getRawResumeSections(self):\n",
        "    no_lines = len(self.lines)\n",
        "    header_linenos = list(self.header_indices.keys())\n",
        "    list_last_index = len(header_linenos)-1\n",
        "    for counter, lineno in enumerate(header_linenos):\n",
        "      start_index = lineno+1\n",
        "      if (counter<list_last_index):\n",
        "        end_index = header_linenos[counter+1]\n",
        "      else:\n",
        "        end_index = no_lines\n",
        "      self.resume_sections[self.header_indices[lineno]]=self.lines[start_index:end_index]\n",
        "\n",
        "  def getExperience(self):\n",
        "    print(\"getExperience()\")\n",
        "\n",
        "  def getEducation(self):\n",
        "    print(\"getEducation()\")\n",
        "\n",
        "  def getSkills(self):\n",
        "    print(\"getSkills()\")\n",
        "\n",
        "  #method to parse the entire resume - calls all the above methods of the class\n",
        "  def getResumeData(self):\n",
        "    self.getHeaderIndices()\n",
        "    if len(self.header_indices)!=0:\n",
        "      self.getRawResumeSections()\n",
        "      self.getExperience()\n",
        "      self.getEducation()\n",
        "      self.getSkills()\n",
        "    return self.resume_sections"
      ],
      "metadata": {
        "id": "oXikyoXkpfjQ"
      },
      "execution_count": 20,
      "outputs": []
    },
    {
      "cell_type": "code",
      "source": [
        "obj = ResumeParser(text)\n",
        "obj.getResumeData()\n",
        "print(\"------------EXPERIENCE---------------------\")\n",
        "for line in obj.resume_sections[\"experience\"]:\n",
        "  print(line)\n",
        "print(\"------------EDUCATION---------------------\")\n",
        "for line in obj.resume_sections[\"education\"]:\n",
        "  print(line)\n",
        "print(\"------------SKILLS---------------------\")\n",
        "for line in obj.resume_sections[\"skills\"]:\n",
        "  print(line)"
      ],
      "metadata": {
        "colab": {
          "base_uri": "https://localhost:8080/"
        },
        "id": "2WkdRJCFHcf-",
        "outputId": "d8be415f-08ce-4275-e8b9-375f6b620e37"
      },
      "execution_count": 21,
      "outputs": [
        {
          "output_type": "stream",
          "name": "stdout",
          "text": [
            "getExperience()\n",
            "getEducation()\n",
            "getSkills()\n",
            "------------EXPERIENCE---------------------\n",
            "\n",
            "Resume Worded, New York, NY\n",
            "QA Manual Tester\n",
            "\n",
            "Jun 2018 – Present\n",
            "\n",
            "● Enabled critical test case complexity metrics with support for Rapid adoption of  functional automation using\n",
            "\n",
            "a scriptless test case adaptor by standardizing a Test Case construction method that was built\n",
            "Automation-ready & supported a test automation framework leading to a 45% increase in reusability with\n",
            "reductions in TCO approaching 25%.\n",
            "\n",
            "● Optimized scripting, modularity, & maintenance which resulted in an 18% decrease in workflow friction.\n",
            "● Increased the company’s ability to take and complete projects without increasing manpower by 15% by\n",
            "\n",
            "reducing QA testing turnaround time by 30%.\n",
            "\n",
            "Growthsi, New York, NY\n",
            "QA Manual Tester\n",
            "\n",
            "Jan 2015 – May 2018\n",
            "\n",
            "● Restructured utilities & improved the process documentation leading to a 40% reduction in client support\n",
            "\n",
            "tickets & an 80% increase in uptime.\n",
            "\n",
            "● Achieved department-wide improvement metrics based on QA scorecard through the 46% & 22% workload\n",
            "\n",
            "reduction of  the customer support & IT departments respectively.\n",
            "\n",
            "● Standardized Test Plan, Test Scripts/Test Cases, Daily Status Reports, etc., documents leading to a 20%\n",
            "\n",
            "increase in productivity.\n",
            "\n",
            "● Established monthly sprint backlog items as well as performed agile meetings while updating the activities in\n",
            "\n",
            "Microsoft TFS in an optimized manner which resulted in saving 10 hours of  monthly lost time.\n",
            "\n",
            "RW Capital, San Diego, CA\n",
            "QA Manual Tester (Nov 2011 – Dec 2014)\n",
            "\n",
            "May 2008 – Dec 2014\n",
            "\n",
            "● Optimized the build process by increasing the system’s quality level and reducing 45% of  defects found.\n",
            "● Established proper team communication that identified, triaged, reproduced, & fixed found issues using JIRA\n",
            "\n",
            "increasing the overall workflow by 25%.\n",
            "\n",
            "Junior QA Manual Tester (May 2010 – Oct 2011)\n",
            "\n",
            "● Wrote & optimized test scripts in towels which led to a 9% reduction in the overall testing hours.\n",
            "● Created traceability matrix to fill in the gap between requirements and tests covered contributing to the 10%\n",
            "\n",
            "increase in test case count.\n",
            "\n",
            "------------EDUCATION---------------------\n",
            "\n",
            "Resume Worded University, San Francisco, CA\n",
            "BSc. Computer Science\n",
            "\n",
            "------------SKILLS---------------------\n",
            "\n",
            "● Test Automation\n",
            "Frameworks\n",
            "\n",
            "● Java\n",
            "● Javascript\n",
            "\n",
            "● Microsoft TFS\n",
            "● CharlesProxy\n",
            "SQL/NoSQL\n",
            "●\n",
            "Selenium/Webdriver\n",
            "\n",
            "●\n",
            "\n",
            "● TestNG\n",
            "JIRA\n",
            "●\n",
            "Jenkins\n",
            "\n",
            "●\n",
            "● Agile\n",
            "\n",
            "May 2010\n",
            "\n",
            "●\n",
            "\n",
            "●\n",
            "\n",
            "Source Versioning\n",
            "JUnit\n",
            "Scrum\n",
            "\n",
            "●\n",
            "● …\n",
            "\n",
            "\f\n"
          ]
        }
      ]
    }
  ]
}