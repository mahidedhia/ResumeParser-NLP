{
  "nbformat": 4,
  "nbformat_minor": 0,
  "metadata": {
    "colab": {
      "provenance": [],
      "include_colab_link": true
    },
    "kernelspec": {
      "name": "python3",
      "display_name": "Python 3"
    },
    "language_info": {
      "name": "python"
    }
  },
  "cells": [
    {
      "cell_type": "markdown",
      "metadata": {
        "id": "view-in-github",
        "colab_type": "text"
      },
      "source": [
        "<a href=\"https://colab.research.google.com/github/mahidedhia/ResumeParser-NLP/blob/master/ResumeParsing.ipynb\" target=\"_parent\"><img src=\"https://colab.research.google.com/assets/colab-badge.svg\" alt=\"Open In Colab\"/></a>"
      ]
    },
    {
      "cell_type": "markdown",
      "source": [
        "##Importing Libraries"
      ],
      "metadata": {
        "id": "3UUA0TtcIkNl"
      }
    },
    {
      "cell_type": "code",
      "source": [
        "!pip install pdfminer.six"
      ],
      "metadata": {
        "colab": {
          "base_uri": "https://localhost:8080/"
        },
        "outputId": "1a9ca0a0-5339-4f3a-f980-7f9beaa9b7d8",
        "id": "_HuGZ1MrudY1"
      },
      "execution_count": 173,
      "outputs": [
        {
          "output_type": "stream",
          "name": "stdout",
          "text": [
            "Looking in indexes: https://pypi.org/simple, https://us-python.pkg.dev/colab-wheels/public/simple/\n",
            "Requirement already satisfied: pdfminer.six in /usr/local/lib/python3.9/dist-packages (20221105)\n",
            "Requirement already satisfied: cryptography>=36.0.0 in /usr/local/lib/python3.9/dist-packages (from pdfminer.six) (40.0.2)\n",
            "Requirement already satisfied: charset-normalizer>=2.0.0 in /usr/local/lib/python3.9/dist-packages (from pdfminer.six) (2.0.12)\n",
            "Requirement already satisfied: cffi>=1.12 in /usr/local/lib/python3.9/dist-packages (from cryptography>=36.0.0->pdfminer.six) (1.15.1)\n",
            "Requirement already satisfied: pycparser in /usr/local/lib/python3.9/dist-packages (from cffi>=1.12->cryptography>=36.0.0->pdfminer.six) (2.21)\n"
          ]
        }
      ]
    },
    {
      "cell_type": "code",
      "execution_count": 174,
      "metadata": {
        "id": "7NJ9Bl77udY9",
        "colab": {
          "base_uri": "https://localhost:8080/"
        },
        "outputId": "1c7c4af7-a8c3-4479-b6a8-4773994429e2"
      },
      "outputs": [
        {
          "output_type": "stream",
          "name": "stderr",
          "text": [
            "[nltk_data] Downloading package stopwords to /root/nltk_data...\n",
            "[nltk_data]   Package stopwords is already up-to-date!\n"
          ]
        }
      ],
      "source": [
        "import spacy\n",
        "from pdfminer.converter import TextConverter\n",
        "from pdfminer.pdfinterp import PDFPageInterpreter\n",
        "from pdfminer.pdfinterp import PDFResourceManager\n",
        "from pdfminer.layout import LAParams\n",
        "from pdfminer.pdfpage import PDFPage\n",
        "import io\n",
        "import numpy as np\n",
        "import nltk\n",
        "\n",
        "nlp = spacy.load(\"en_core_web_sm\")\n",
        "\n",
        "#for stopwords required for preprocessing\n",
        "stopwords = nltk.download('stopwords')\n",
        "from nltk.corpus import stopwords\n",
        "stops = set(stopwords.words('english'))"
      ]
    },
    {
      "cell_type": "markdown",
      "source": [
        "##PDF to Text Conversion"
      ],
      "metadata": {
        "id": "QXggxfn8IUVF"
      }
    },
    {
      "cell_type": "code",
      "source": [
        "filename = \"/content/QA-Manual-Tester.pdf\""
      ],
      "metadata": {
        "id": "4HRY-zIQvXSq"
      },
      "execution_count": 175,
      "outputs": []
    },
    {
      "cell_type": "code",
      "source": [
        "def extract_text_from_pdf(pdf_path):\n",
        "    with open(pdf_path, 'rb') as fh:\n",
        "        # iterate over all pages of PDF document\n",
        "        for page in PDFPage.get_pages(fh, caching=True, check_extractable=True):\n",
        "            # creating a resoure manager\n",
        "            resource_manager = PDFResourceManager()\n",
        "            \n",
        "            # create a file handle\n",
        "            fake_file_handle = io.StringIO()\n",
        "            \n",
        "            # creating a text converter object\n",
        "            converter = TextConverter(\n",
        "                                resource_manager, \n",
        "                                fake_file_handle, \n",
        "                                codec='utf-8', \n",
        "                                laparams=LAParams()\n",
        "                        )\n",
        "\n",
        "            # creating a page interpreter\n",
        "            page_interpreter = PDFPageInterpreter(\n",
        "                                resource_manager, \n",
        "                                converter\n",
        "                            )\n",
        "\n",
        "            # process current page\n",
        "            page_interpreter.process_page(page)\n",
        "            \n",
        "            # extract text\n",
        "            text = fake_file_handle.getvalue()\n",
        "            yield text\n",
        "\n",
        "            # close open handles\n",
        "            converter.close()\n",
        "            fake_file_handle.close()"
      ],
      "metadata": {
        "id": "BHHVg78VJF14"
      },
      "execution_count": 176,
      "outputs": []
    },
    {
      "cell_type": "code",
      "source": [
        "resume_text = ''\n",
        "# calling above function and extracting text\n",
        "for page in extract_text_from_pdf(filename):\n",
        "    resume_text += page + ' '\n",
        "\n",
        "resume_text"
      ],
      "metadata": {
        "colab": {
          "base_uri": "https://localhost:8080/",
          "height": 123
        },
        "id": "m5NssPB8JOCM",
        "outputId": "c9ee5206-6c1b-472a-86bc-e515babb57e1"
      },
      "execution_count": 177,
      "outputs": [
        {
          "output_type": "execute_result",
          "data": {
            "text/plain": [
              "'FIRST LAST\\nBay Area, California • +1-234-456-789 • professionalemail@resumeworded.com • linkedin.com/in/username\\n\\nPROFESSIONAL EXPERIENCE\\n\\nResume Worded, New York, NY\\nQA Manual Tester\\n\\nJun 2018 – Present\\n\\n● Enabled critical test case complexity metrics with support for Rapid adoption of  functional automation using\\n\\na scriptless test case adaptor by standardizing a Test Case construction method that was built\\nAutomation-ready & supported a test automation framework leading to a 45% increase in reusability with\\nreductions in TCO approaching 25%.\\n\\n● Optimized scripting, modularity, & maintenance which resulted in an 18% decrease in workflow friction.\\n● Increased the company’s ability to take and complete projects without increasing manpower by 15% by\\n\\nreducing QA testing turnaround time by 30%.\\n\\nGrowthsi, New York, NY\\nQA Manual Tester\\n\\nJan 2015 – May 2018\\n\\n● Restructured utilities & improved the process documentation leading to a 40% reduction in client support\\n\\ntickets & an 80% increase in uptime.\\n\\n● Achieved department-wide improvement metrics based on QA scorecard through the 46% & 22% workload\\n\\nreduction of  the customer support & IT departments respectively.\\n\\n● Standardized Test Plan, Test Scripts/Test Cases, Daily Status Reports, etc., documents leading to a 20%\\n\\nincrease in productivity.\\n\\n● Established monthly sprint backlog items as well as performed agile meetings while updating the activities in\\n\\nMicrosoft TFS in an optimized manner which resulted in saving 10 hours of  monthly lost time.\\n\\nRW Capital, San Diego, CA\\nQA Manual Tester (Nov 2011 – Dec 2014)\\n\\nMay 2008 – Dec 2014\\n\\n● Optimized the build process by increasing the system’s quality level and reducing 45% of  defects found.\\n● Established proper team communication that identified, triaged, reproduced, & fixed found issues using JIRA\\n\\nincreasing the overall workflow by 25%.\\n\\nJunior QA Manual Tester (May 2010 – Oct 2011)\\n\\n● Wrote & optimized test scripts in towels which led to a 9% reduction in the overall testing hours.\\n● Created traceability matrix to fill in the gap between requirements and tests covered contributing to the 10%\\n\\nincrease in test case count.\\n\\nEDUCATION\\n\\nResume Worded University, San Francisco, CA\\nBSc. Computer Science\\n\\nSKILLS\\n\\n● Test Automation\\nFrameworks\\n\\n● Java\\n● Javascript\\n\\n● Microsoft TFS\\n● CharlesProxy\\nSQL/NoSQL\\n●\\nSelenium/Webdriver\\n\\n●\\n\\n● TestNG\\nJIRA\\n●\\nJenkins\\n\\n●\\n● Agile\\n\\nMay 2010\\n\\n●\\n\\n●\\n\\nSource Versioning\\nJUnit\\nScrum\\n\\n●\\n● …\\n\\n\\x0c '"
            ],
            "application/vnd.google.colaboratory.intrinsic+json": {
              "type": "string"
            }
          },
          "metadata": {},
          "execution_count": 177
        }
      ]
    },
    {
      "cell_type": "code",
      "source": [
        "#removing unwanted unicode characters\n",
        "resume_text = resume_text.encode(\"ascii\", \"ignore\")\n",
        "resume_text = resume_text.decode()\n",
        "resume_text"
      ],
      "metadata": {
        "colab": {
          "base_uri": "https://localhost:8080/",
          "height": 123
        },
        "id": "Ui0R_cn0Q9hY",
        "outputId": "35064983-a1b8-4ad1-9fc9-981f35ce3f4c"
      },
      "execution_count": 178,
      "outputs": [
        {
          "output_type": "execute_result",
          "data": {
            "text/plain": [
              "'FIRST LAST\\nBay Area, California  +1-234-456-789  professionalemail@resumeworded.com  linkedin.com/in/username\\n\\nPROFESSIONAL EXPERIENCE\\n\\nResume Worded, New York, NY\\nQA Manual Tester\\n\\nJun 2018  Present\\n\\n Enabled critical test case complexity metrics with support for Rapid adoption of  functional automation using\\n\\na scriptless test case adaptor by standardizing a Test Case construction method that was built\\nAutomation-ready & supported a test automation framework leading to a 45% increase in reusability with\\nreductions in TCO approaching 25%.\\n\\n Optimized scripting, modularity, & maintenance which resulted in an 18% decrease in workflow friction.\\n Increased the companys ability to take and complete projects without increasing manpower by 15% by\\n\\nreducing QA testing turnaround time by 30%.\\n\\nGrowthsi, New York, NY\\nQA Manual Tester\\n\\nJan 2015  May 2018\\n\\n Restructured utilities & improved the process documentation leading to a 40% reduction in client support\\n\\ntickets & an 80% increase in uptime.\\n\\n Achieved department-wide improvement metrics based on QA scorecard through the 46% & 22% workload\\n\\nreduction of  the customer support & IT departments respectively.\\n\\n Standardized Test Plan, Test Scripts/Test Cases, Daily Status Reports, etc., documents leading to a 20%\\n\\nincrease in productivity.\\n\\n Established monthly sprint backlog items as well as performed agile meetings while updating the activities in\\n\\nMicrosoft TFS in an optimized manner which resulted in saving 10 hours of  monthly lost time.\\n\\nRW Capital, San Diego, CA\\nQA Manual Tester (Nov 2011  Dec 2014)\\n\\nMay 2008  Dec 2014\\n\\n Optimized the build process by increasing the systems quality level and reducing 45% of  defects found.\\n Established proper team communication that identified, triaged, reproduced, & fixed found issues using JIRA\\n\\nincreasing the overall workflow by 25%.\\n\\nJunior QA Manual Tester (May 2010  Oct 2011)\\n\\n Wrote & optimized test scripts in towels which led to a 9% reduction in the overall testing hours.\\n Created traceability matrix to fill in the gap between requirements and tests covered contributing to the 10%\\n\\nincrease in test case count.\\n\\nEDUCATION\\n\\nResume Worded University, San Francisco, CA\\nBSc. Computer Science\\n\\nSKILLS\\n\\n Test Automation\\nFrameworks\\n\\n Java\\n Javascript\\n\\n Microsoft TFS\\n CharlesProxy\\nSQL/NoSQL\\n\\nSelenium/Webdriver\\n\\n\\n\\n TestNG\\nJIRA\\n\\nJenkins\\n\\n\\n Agile\\n\\nMay 2010\\n\\n\\n\\n\\n\\nSource Versioning\\nJUnit\\nScrum\\n\\n\\n \\n\\n\\x0c '"
            ],
            "application/vnd.google.colaboratory.intrinsic+json": {
              "type": "string"
            }
          },
          "metadata": {},
          "execution_count": 178
        }
      ]
    },
    {
      "cell_type": "markdown",
      "source": [
        "##Pre-Processing"
      ],
      "metadata": {
        "id": "_obkh4NPJkWc"
      }
    },
    {
      "cell_type": "code",
      "source": [
        "#function for tokenizing\n",
        "def tokenize(text):\n",
        "  #using spacy\n",
        "  doc = nlp(text)\n",
        "  word_tokens = []\n",
        "  for token in doc:\n",
        "    word_tokens.append(str(token))\n",
        "  return word_tokens"
      ],
      "metadata": {
        "id": "TwS-hsJWSFsE"
      },
      "execution_count": 179,
      "outputs": []
    },
    {
      "cell_type": "code",
      "source": [
        "#function for removing stop words and special characters. also converting tokens to lowercase\n",
        "def stop_words(word_tokens):\n",
        "  #using nltk\n",
        "  removed_stop_words = [word.lower() for word in word_tokens if word not in stops and str(word) not in special_char and not (ord(str(word)[0]) >= 0 and ord(str(word)[0]) <= 32)] \n",
        "  return removed_stop_words"
      ],
      "metadata": {
        "id": "M8OWsGyNToau"
      },
      "execution_count": 180,
      "outputs": []
    },
    {
      "cell_type": "code",
      "source": [
        "def preProcessess(text):\n",
        "  #removing \\n\n",
        "  text = text.replace('\\n', ' ')\n",
        "  #word tokenzing\n",
        "  word_tokens=tokenize(text)\n",
        "  #removal of stopwords and special characters\n",
        "  removed_stop_words = stop_words(word_tokens)\n",
        "  return removed_stop_words"
      ],
      "metadata": {
        "id": "i601Kbo7RPHO"
      },
      "execution_count": 181,
      "outputs": []
    },
    {
      "cell_type": "code",
      "source": [
        "preProcessedTokens = preProcessess(resume_text)\n",
        "preProcessedTokens"
      ],
      "metadata": {
        "colab": {
          "base_uri": "https://localhost:8080/"
        },
        "id": "m99_ZYtsVjT_",
        "outputId": "82a169e0-c198-4aa0-db71-92f91e444576"
      },
      "execution_count": 182,
      "outputs": [
        {
          "output_type": "execute_result",
          "data": {
            "text/plain": [
              "['first',\n",
              " 'last',\n",
              " 'bay',\n",
              " 'area',\n",
              " 'california',\n",
              " '+1',\n",
              " '234',\n",
              " '456',\n",
              " '789',\n",
              " 'professionalemail@resumeworded.com',\n",
              " 'linkedin.com/in/username',\n",
              " 'professional',\n",
              " 'experience',\n",
              " 'resume',\n",
              " 'worded',\n",
              " 'new',\n",
              " 'york',\n",
              " 'ny',\n",
              " 'qa',\n",
              " 'manual',\n",
              " 'tester',\n",
              " 'jun',\n",
              " '2018',\n",
              " 'present',\n",
              " 'enabled',\n",
              " 'critical',\n",
              " 'test',\n",
              " 'case',\n",
              " 'complexity',\n",
              " 'metrics',\n",
              " 'support',\n",
              " 'rapid',\n",
              " 'adoption',\n",
              " 'functional',\n",
              " 'automation',\n",
              " 'using',\n",
              " 'scriptless',\n",
              " 'test',\n",
              " 'case',\n",
              " 'adaptor',\n",
              " 'standardizing',\n",
              " 'test',\n",
              " 'case',\n",
              " 'construction',\n",
              " 'method',\n",
              " 'built',\n",
              " 'automation',\n",
              " 'ready',\n",
              " 'supported',\n",
              " 'test',\n",
              " 'automation',\n",
              " 'framework',\n",
              " 'leading',\n",
              " '45',\n",
              " 'increase',\n",
              " 'reusability',\n",
              " 'reductions',\n",
              " 'tco',\n",
              " 'approaching',\n",
              " '25',\n",
              " 'optimized',\n",
              " 'scripting',\n",
              " 'modularity',\n",
              " 'maintenance',\n",
              " 'resulted',\n",
              " '18',\n",
              " 'decrease',\n",
              " 'workflow',\n",
              " 'friction',\n",
              " 'increased',\n",
              " 'companys',\n",
              " 'ability',\n",
              " 'take',\n",
              " 'complete',\n",
              " 'projects',\n",
              " 'without',\n",
              " 'increasing',\n",
              " 'manpower',\n",
              " '15',\n",
              " 'reducing',\n",
              " 'qa',\n",
              " 'testing',\n",
              " 'turnaround',\n",
              " 'time',\n",
              " '30',\n",
              " 'growthsi',\n",
              " 'new',\n",
              " 'york',\n",
              " 'ny',\n",
              " 'qa',\n",
              " 'manual',\n",
              " 'tester',\n",
              " 'jan',\n",
              " '2015',\n",
              " 'may',\n",
              " '2018',\n",
              " 'restructured',\n",
              " 'utilities',\n",
              " 'improved',\n",
              " 'process',\n",
              " 'documentation',\n",
              " 'leading',\n",
              " '40',\n",
              " 'reduction',\n",
              " 'client',\n",
              " 'support',\n",
              " 'tickets',\n",
              " '80',\n",
              " 'increase',\n",
              " 'uptime',\n",
              " 'achieved',\n",
              " 'department',\n",
              " 'wide',\n",
              " 'improvement',\n",
              " 'metrics',\n",
              " 'based',\n",
              " 'qa',\n",
              " 'scorecard',\n",
              " '46',\n",
              " '22',\n",
              " 'workload',\n",
              " 'reduction',\n",
              " 'customer',\n",
              " 'support',\n",
              " 'it',\n",
              " 'departments',\n",
              " 'respectively',\n",
              " 'standardized',\n",
              " 'test',\n",
              " 'plan',\n",
              " 'test',\n",
              " 'scripts',\n",
              " 'test',\n",
              " 'cases',\n",
              " 'daily',\n",
              " 'status',\n",
              " 'reports',\n",
              " 'etc',\n",
              " 'documents',\n",
              " 'leading',\n",
              " '20',\n",
              " 'increase',\n",
              " 'productivity',\n",
              " 'established',\n",
              " 'monthly',\n",
              " 'sprint',\n",
              " 'backlog',\n",
              " 'items',\n",
              " 'well',\n",
              " 'performed',\n",
              " 'agile',\n",
              " 'meetings',\n",
              " 'updating',\n",
              " 'activities',\n",
              " 'microsoft',\n",
              " 'tfs',\n",
              " 'optimized',\n",
              " 'manner',\n",
              " 'resulted',\n",
              " 'saving',\n",
              " '10',\n",
              " 'hours',\n",
              " 'monthly',\n",
              " 'lost',\n",
              " 'time',\n",
              " 'rw',\n",
              " 'capital',\n",
              " 'san',\n",
              " 'diego',\n",
              " 'ca',\n",
              " 'qa',\n",
              " 'manual',\n",
              " 'tester',\n",
              " 'nov',\n",
              " '2011',\n",
              " 'dec',\n",
              " '2014',\n",
              " 'may',\n",
              " '2008',\n",
              " 'dec',\n",
              " '2014',\n",
              " 'optimized',\n",
              " 'build',\n",
              " 'process',\n",
              " 'increasing',\n",
              " 'systems',\n",
              " 'quality',\n",
              " 'level',\n",
              " 'reducing',\n",
              " '45',\n",
              " 'defects',\n",
              " 'found',\n",
              " 'established',\n",
              " 'proper',\n",
              " 'team',\n",
              " 'communication',\n",
              " 'identified',\n",
              " 'triaged',\n",
              " 'reproduced',\n",
              " 'fixed',\n",
              " 'found',\n",
              " 'issues',\n",
              " 'using',\n",
              " 'jira',\n",
              " 'increasing',\n",
              " 'overall',\n",
              " 'workflow',\n",
              " '25',\n",
              " 'junior',\n",
              " 'qa',\n",
              " 'manual',\n",
              " 'tester',\n",
              " 'may',\n",
              " '2010',\n",
              " 'oct',\n",
              " '2011',\n",
              " 'wrote',\n",
              " 'optimized',\n",
              " 'test',\n",
              " 'scripts',\n",
              " 'towels',\n",
              " 'led',\n",
              " '9',\n",
              " 'reduction',\n",
              " 'overall',\n",
              " 'testing',\n",
              " 'hours',\n",
              " 'created',\n",
              " 'traceability',\n",
              " 'matrix',\n",
              " 'fill',\n",
              " 'gap',\n",
              " 'requirements',\n",
              " 'tests',\n",
              " 'covered',\n",
              " 'contributing',\n",
              " '10',\n",
              " 'increase',\n",
              " 'test',\n",
              " 'case',\n",
              " 'count',\n",
              " 'education',\n",
              " 'resume',\n",
              " 'worded',\n",
              " 'university',\n",
              " 'san',\n",
              " 'francisco',\n",
              " 'ca',\n",
              " 'bsc',\n",
              " 'computer',\n",
              " 'science',\n",
              " 'skills',\n",
              " 'test',\n",
              " 'automation',\n",
              " 'frameworks',\n",
              " 'java',\n",
              " 'javascript',\n",
              " 'microsoft',\n",
              " 'tfs',\n",
              " 'charlesproxy',\n",
              " 'sql',\n",
              " 'nosql',\n",
              " 'selenium',\n",
              " 'webdriver',\n",
              " 'testng',\n",
              " 'jira',\n",
              " 'jenkins',\n",
              " 'agile',\n",
              " 'may',\n",
              " '2010',\n",
              " 'source',\n",
              " 'versioning',\n",
              " 'junit',\n",
              " 'scrum']"
            ]
          },
          "metadata": {},
          "execution_count": 182
        }
      ]
    },
    {
      "cell_type": "markdown",
      "source": [
        "##Extraction"
      ],
      "metadata": {
        "id": "L8A7LS6blLBH"
      }
    },
    {
      "cell_type": "code",
      "source": [
        "headers_experience = (\n",
        "        'career profile',\n",
        "        'employment history',\n",
        "        'work history',\n",
        "        'work experience',\n",
        "        'experience',\n",
        "        'professional experience',\n",
        "        'professional background',\n",
        "        'additional experience',\n",
        "        'career related experience',\n",
        "        'related experience',\n",
        "        'programming experience',\n",
        "        'freelance',\n",
        "        'freelance experience',\n",
        "        'army experience',\n",
        "        'military experience',\n",
        "        'military background',\n",
        ")\n",
        "headers_education = (\n",
        "        'academic background',\n",
        "        'academic experience',\n",
        "        'programs',\n",
        "        'courses',\n",
        "        'related courses',\n",
        "        'education',\n",
        "        'qualifications',\n",
        "        'educational background',\n",
        "        'educational qualifications',\n",
        "        'educational training',\n",
        "        'education and training',\n",
        "        'training',\n",
        "        'academic training',\n",
        "        'professional training',\n",
        "        'course project experience',\n",
        "        'related course projects',\n",
        "        'internship experience',\n",
        "        'internships',\n",
        "        'apprenticeships',\n",
        "        'college activities',\n",
        "        'certifications',\n",
        "        'special training',\n",
        "    )\n",
        "headers_skills = (\n",
        "        'credentials',\n",
        "        'areas of experience',\n",
        "        'areas of expertise',\n",
        "        'areas of knowledge',\n",
        "        'skills',\n",
        "        \"other skills\",\n",
        "        \"other abilities\",\n",
        "        'career related skills',\n",
        "        'professional skills',\n",
        "        'specialized skills',\n",
        "        'technical skills',\n",
        "        'computer skills',\n",
        "        'personal skills',\n",
        "        'computer knowledge',        \n",
        "        'technologies',\n",
        "        'technical experience',\n",
        "        'proficiencies',\n",
        "        'languages',\n",
        "        'language competencies and skills',\n",
        "        'programming languages',\n",
        "        'competencies'\n",
        "    )\n",
        "headers_projects = (\n",
        "    'projects',\n",
        "    'personal projects',\n",
        "    'academic projects',\n",
        ")"
      ],
      "metadata": {
        "id": "UlQyyqcTvd9C"
      },
      "execution_count": 183,
      "outputs": []
    },
    {
      "cell_type": "code",
      "source": [
        "# A complete sentence contains at least one subject, one predicate, one object, and closes with punctuation. \n",
        "# Subject and object are almost always nouns, and the predicate is always a verb.\n",
        "def checkSentence(text):\n",
        "  text=nlp(text)\n",
        "  has_noun = 2\n",
        "  has_verb = 1\n",
        "  for token in text:\n",
        "    if token.pos_ in [\"NOUN\", \"PROPN\", \"PRON\"]:\n",
        "        has_noun -= 1\n",
        "    elif token.pos_ == \"VERB\":\n",
        "        has_verb -= 1\n",
        "  if has_noun < 1 and has_verb < 1:\n",
        "    return True\n",
        "  return False"
      ],
      "metadata": {
        "id": "JE2jQ3xYvd9D"
      },
      "execution_count": 184,
      "outputs": []
    },
    {
      "cell_type": "code",
      "source": [
        "class ResumeParser:\n",
        "  def __init__(self, text):\n",
        "    self.resume_text = text\n",
        "    self.lines = text.split(\"\\n\")\n",
        "  \n",
        "  resume_sections = {\n",
        "      'name': {},\n",
        "      'experience': {},\n",
        "      'education': {},\n",
        "      'skills': {},\n",
        "      'projects': {},\n",
        "  }\n",
        "  header_indices = {}\n",
        "\n",
        "  #Obtain line nos of Headers \n",
        "  def getHeaderIndices(self):\n",
        "    for i, line in enumerate(self.lines):\n",
        "      if len(line):\n",
        "        #Header always starts in Uppercase\n",
        "        if line[0].isupper():\n",
        "          #The line is a header if it matches the required section headers and isn't a complete sentence\n",
        "          if [item for item in headers_experience if line.lower().startswith(item)] and not checkSentence(line):\n",
        "            self.header_indices[i]=\"experience\"\n",
        "          elif [item for item in headers_education if line.lower().startswith(item)] and not checkSentence(line):\n",
        "            self.header_indices[i]=\"education\"\n",
        "          elif [item for item in headers_skills if line.lower().startswith(item)] and not checkSentence(line):\n",
        "            self.header_indices[i]=\"skills\"\n",
        "          elif [item for item in headers_projects if line.lower().startswith(item)] and not checkSentence(line):\n",
        "            self.header_indices[i]=\"projects\"\n",
        "\n",
        "  #Obtain raw text for different resume sections using header indices/linenos\n",
        "  def getRawResumeSections(self):\n",
        "    no_lines = len(self.lines)\n",
        "    header_linenos = list(self.header_indices.keys())\n",
        "    list_last_index = len(header_linenos)-1\n",
        "    for counter, lineno in enumerate(header_linenos):\n",
        "      start_index = lineno+1\n",
        "      if (counter<list_last_index):\n",
        "        end_index = header_linenos[counter+1]\n",
        "      else:\n",
        "        end_index = no_lines\n",
        "      self.resume_sections[self.header_indices[lineno]]=self.lines[start_index:end_index]\n",
        "\n",
        "  def getExperience(self):\n",
        "    print(\"getExperience()\")\n",
        "\n",
        "  def getEducation(self):\n",
        "    print(\"getEducation()\")\n",
        "\n",
        "  def getSkills(self):\n",
        "    print(\"getSkills()\")\n",
        "\n",
        "  #method to parse the entire resume - calls all the above methods of the class\n",
        "  def getResumeData(self):\n",
        "    self.getHeaderIndices()\n",
        "    if len(self.header_indices)!=0:\n",
        "      self.getRawResumeSections()\n",
        "      self.getExperience()\n",
        "      self.getEducation()\n",
        "      self.getSkills()\n",
        "    return self.resume_sections"
      ],
      "metadata": {
        "id": "QBScRJMcvd9D"
      },
      "execution_count": 185,
      "outputs": []
    },
    {
      "cell_type": "code",
      "source": [
        "obj = ResumeParser(resume_text)\n",
        "obj.getResumeData()\n",
        "print(\"------------EXPERIENCE---------------------\")\n",
        "for line in obj.resume_sections[\"experience\"]:\n",
        "  print(line)\n",
        "print(\"------------EDUCATION---------------------\")\n",
        "for line in obj.resume_sections[\"education\"]:\n",
        "  print(line)\n",
        "print(\"------------SKILLS---------------------\")\n",
        "for line in obj.resume_sections[\"skills\"]:\n",
        "  print(line)"
      ],
      "metadata": {
        "colab": {
          "base_uri": "https://localhost:8080/"
        },
        "outputId": "f867e105-1e10-4682-cf4c-bfe8e11e5179",
        "id": "vSBljPMwvd9D"
      },
      "execution_count": 186,
      "outputs": [
        {
          "output_type": "stream",
          "name": "stdout",
          "text": [
            "getExperience()\n",
            "getEducation()\n",
            "getSkills()\n",
            "------------EXPERIENCE---------------------\n",
            "\n",
            "Resume Worded, New York, NY\n",
            "QA Manual Tester\n",
            "\n",
            "Jun 2018  Present\n",
            "\n",
            " Enabled critical test case complexity metrics with support for Rapid adoption of  functional automation using\n",
            "\n",
            "a scriptless test case adaptor by standardizing a Test Case construction method that was built\n",
            "Automation-ready & supported a test automation framework leading to a 45% increase in reusability with\n",
            "reductions in TCO approaching 25%.\n",
            "\n",
            " Optimized scripting, modularity, & maintenance which resulted in an 18% decrease in workflow friction.\n",
            " Increased the companys ability to take and complete projects without increasing manpower by 15% by\n",
            "\n",
            "reducing QA testing turnaround time by 30%.\n",
            "\n",
            "Growthsi, New York, NY\n",
            "QA Manual Tester\n",
            "\n",
            "Jan 2015  May 2018\n",
            "\n",
            " Restructured utilities & improved the process documentation leading to a 40% reduction in client support\n",
            "\n",
            "tickets & an 80% increase in uptime.\n",
            "\n",
            " Achieved department-wide improvement metrics based on QA scorecard through the 46% & 22% workload\n",
            "\n",
            "reduction of  the customer support & IT departments respectively.\n",
            "\n",
            " Standardized Test Plan, Test Scripts/Test Cases, Daily Status Reports, etc., documents leading to a 20%\n",
            "\n",
            "increase in productivity.\n",
            "\n",
            " Established monthly sprint backlog items as well as performed agile meetings while updating the activities in\n",
            "\n",
            "Microsoft TFS in an optimized manner which resulted in saving 10 hours of  monthly lost time.\n",
            "\n",
            "RW Capital, San Diego, CA\n",
            "QA Manual Tester (Nov 2011  Dec 2014)\n",
            "\n",
            "May 2008  Dec 2014\n",
            "\n",
            " Optimized the build process by increasing the systems quality level and reducing 45% of  defects found.\n",
            " Established proper team communication that identified, triaged, reproduced, & fixed found issues using JIRA\n",
            "\n",
            "increasing the overall workflow by 25%.\n",
            "\n",
            "Junior QA Manual Tester (May 2010  Oct 2011)\n",
            "\n",
            " Wrote & optimized test scripts in towels which led to a 9% reduction in the overall testing hours.\n",
            " Created traceability matrix to fill in the gap between requirements and tests covered contributing to the 10%\n",
            "\n",
            "increase in test case count.\n",
            "\n",
            "------------EDUCATION---------------------\n",
            "\n",
            "Resume Worded University, San Francisco, CA\n",
            "BSc. Computer Science\n",
            "\n",
            "------------SKILLS---------------------\n",
            "\n",
            " Test Automation\n",
            "Frameworks\n",
            "\n",
            " Java\n",
            " Javascript\n",
            "\n",
            " Microsoft TFS\n",
            " CharlesProxy\n",
            "SQL/NoSQL\n",
            "\n",
            "Selenium/Webdriver\n",
            "\n",
            "\n",
            "\n",
            " TestNG\n",
            "JIRA\n",
            "\n",
            "Jenkins\n",
            "\n",
            "\n",
            " Agile\n",
            "\n",
            "May 2010\n",
            "\n",
            "\n",
            "\n",
            "\n",
            "\n",
            "Source Versioning\n",
            "JUnit\n",
            "Scrum\n",
            "\n",
            "\n",
            " \n",
            "\n",
            "\f \n"
          ]
        }
      ]
    },
    {
      "cell_type": "code",
      "source": [],
      "metadata": {
        "id": "enbq61GDurqE"
      },
      "execution_count": 186,
      "outputs": []
    }
  ]
}